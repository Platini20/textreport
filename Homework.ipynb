{
 "cells": [
  {
   "cell_type": "markdown",
   "id": "f239938a-0cd6-43c6-b7e7-1f91c2a027ed",
   "metadata": {},
   "source": [
    "<h1>My Jupyter Notebook</h1>"
   ]
  },
  {
   "cell_type": "markdown",
   "id": "b1e330ed-6354-4025-b08a-920f01bffea6",
   "metadata": {},
   "source": [
    "<h2> Introduction</h2>"
   ]
  },
  {
   "cell_type": "markdown",
   "id": "ff730030-7218-4bae-99f5-313e9b6377b5",
   "metadata": {},
   "source": [
    "data science languages: **Python; R, SQL, Scala, Java etc...**"
   ]
  },
  {
   "cell_type": "markdown",
   "id": "0adc8d3f-e800-4f03-9e7e-eea92808dd2f",
   "metadata": {},
   "source": [
    "data science libraries: **Pandas, Numpy, Scipy, Matplotlib etc..**"
   ]
  },
  {
   "cell_type": "markdown",
   "id": "2ecd4cb2-755a-471c-be0b-4765ae204264",
   "metadata": {},
   "source": [
    " table of Data Science tools: **Jupiter Notebook, JupiterLab, RStudio IDE, GitHub**\n"
   ]
  },
  {
   "cell_type": "markdown",
   "id": "0da4df91-22f9-451d-b34f-bd68d4de7f1b",
   "metadata": {},
   "source": [
    " **The multiplication and add of two integers**"
   ]
  },
  {
   "cell_type": "code",
   "execution_count": null,
   "id": "b74b335a-4cc6-4410-b998-002627199955",
   "metadata": {},
   "outputs": [],
   "source": [
    "#### multiplication\n",
    "a=int(input(\"Enter a real number: \"))\n",
    "b=int(input(\"Enter another real number: \"))\n",
    "P=print(a*b)\n",
    "S=print(a+b)"
   ]
  },
  {
   "cell_type": "code",
   "execution_count": null,
   "id": "4663c7b6-e972-457f-9231-4ccddcded241",
   "metadata": {},
   "outputs": [],
   "source": [
    "##convert minutes to hours. \n",
    "a=float(input(\"Enter a real number: \"))\n",
    "b=a/60\n",
    "print(f\"{a} minutes is {b} hours\")"
   ]
  },
  {
   "cell_type": "markdown",
   "id": "ea39ccdc-5342-4cec-9970-8e0e1b065f10",
   "metadata": {},
   "source": [
    "The Objectives are: *sort, analyze, mining, conclude etc.*"
   ]
  },
  {
   "cell_type": "markdown",
   "id": "ebf14e07-5d69-49f4-b46c-0a1b188bcedc",
   "metadata": {},
   "source": [
    "Author’s name: **AFP**"
   ]
  },
  {
   "cell_type": "code",
   "execution_count": null,
   "id": "1a9ed2c6-61ed-4d1e-b424-77e6a340fc32",
   "metadata": {},
   "outputs": [],
   "source": []
  }
 ],
 "metadata": {
  "kernelspec": {
   "display_name": "Python",
   "language": "python",
   "name": "conda-env-python-py"
  },
  "language_info": {
   "codemirror_mode": {
    "name": "ipython",
    "version": 3
   },
   "file_extension": ".py",
   "mimetype": "text/x-python",
   "name": "python",
   "nbconvert_exporter": "python",
   "pygments_lexer": "ipython3",
   "version": "3.7.12"
  }
 },
 "nbformat": 4,
 "nbformat_minor": 5
}
